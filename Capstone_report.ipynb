{
 "cells": [
  {
   "cell_type": "markdown",
   "metadata": {},
   "source": [
    "# Introduction"
   ]
  },
  {
   "cell_type": "markdown",
   "metadata": {},
   "source": [
    "While vegetarian cuisine is relatively easy to come by, restaurants that serve strictly vegan food are not.\n",
    "\n",
    "The Czech capital has been named among the world’s most vegan-friendly cities joining the ranks of London, Berlin and New York in happycow.net, one of the most popular vegetarian restaurant resources online.\n",
    "\n",
    "With a population of only 1.26 million people, Prague comes up in the top 5 of most vegan restaurants per capita in the world.\n",
    "\n",
    "Prague’s vegan scene is rapidly growing with new vegan restaurants popping up in Prague over the past couple of years encompassing everything from a vegan donut shop to a socially conscious vegan cafe that employs disadvantaged workers.\n",
    "\n",
    "Over the past few years, veganism has only been growing worldwide, and it’s clear that more and more companies are capitalising on the popularity of this movement.\n",
    "\n",
    "There’s a diverse culture in Prague, due to the high number of expats living in the city. With this diversity in culture comes diversity in food items. There are many restaurants of different categories, like Asian, Indian, Italian, Japanese, etc. As part of this project, I will list and visualize the major areas of Prague that have good Vegan restaurants."
   ]
  },
  {
   "cell_type": "markdown",
   "metadata": {},
   "source": [
    "# Data"
   ]
  },
  {
   "cell_type": "markdown",
   "metadata": {},
   "source": [
    "\n",
    "The data gathered can be splitted into two main sources:\n",
    "\n",
    "1) Prague data that contains a list of districts and areas. The data was gathered from wikipedia and then restructured to csv for easier manipulation, which was uploaded to GitHub for reference. The file is accessible here: https://github.com/gwendysyd/Coursera_Capstone/blob/master/Prague.csv\n",
    "\n",
    "2) Another source for this project is Foursquare data, that will be used mainly for segmentation and clustering."
   ]
  },
  {
   "cell_type": "markdown",
   "metadata": {},
   "source": [
    "# Methodology"
   ]
  },
  {
   "cell_type": "markdown",
   "metadata": {},
   "source": [
    "- We will collect Prague data (postcodes, districts and areas) from wikipedia and convert it to a csv file for easy processing.\n",
    "- Then, we will get the latitude and longitude values for each area through geocoder.\n",
    "- After that, we will use the Foursquare API to explore Vegetarian/Vegan restaurants in the different areas of the city of Prague. We will find all venues for each neighborhood, filter the Vegetarian/Vegan restaurants, and find the ratings for each.\n",
    "- We will sort the restaurants by rating in order to find the ones with the best score, by district and by area.\n",
    "- We will visualize the data with folium."
   ]
  },
  {
   "cell_type": "markdown",
   "metadata": {},
   "source": [
    "# Results"
   ]
  },
  {
   "cell_type": "markdown",
   "metadata": {},
   "source": [
    "- Prague 6 is the district with the highest number of areas\n",
    "- There are 40 vegan restaurants in Prague\n",
    "- Prague 4 is the district with the highest number of vegan restaurants\n",
    "- The districts with best rated restaurants are Prague 1, Prague 2 and Prague 3"
   ]
  },
  {
   "cell_type": "markdown",
   "metadata": {},
   "source": [
    "# Discussion"
   ]
  },
  {
   "cell_type": "markdown",
   "metadata": {},
   "source": [
    "Even though Prague 6 is the district with the highest number of areas, Prague 4 is the one with the highest number of vegan restaurants. This can make Prague 6 a good area to open new vegan restaurants, as the number of vegan restaurants in Prague is 40, which is a relatively small number if we take into consideration the population and the increasing trend of veganism during the past years. "
   ]
  },
  {
   "cell_type": "markdown",
   "metadata": {},
   "source": [
    "# Conclusion"
   ]
  },
  {
   "cell_type": "markdown",
   "metadata": {},
   "source": [
    "- Vysehrad, Lesser Town and Hradcany are some of the areas with better quality vegan restaurants. \n",
    "- Prague 1 is potentially good to open new vegan restaurants, as the number is low compared with other districts and is the city center. \n",
    "- Also Prague 6, as it is a big district with a very low number of restaurants of this kind.\n",
    "- If you are a vegan, Prague 4 is the best place to establish a residence or to explore vegan restaurants."
   ]
  },
  {
   "cell_type": "code",
   "execution_count": null,
   "metadata": {},
   "outputs": [],
   "source": []
  }
 ],
 "metadata": {
  "kernelspec": {
   "display_name": "Python 3",
   "language": "python",
   "name": "python3"
  },
  "language_info": {
   "codemirror_mode": {
    "name": "ipython",
    "version": 3
   },
   "file_extension": ".py",
   "mimetype": "text/x-python",
   "name": "python",
   "nbconvert_exporter": "python",
   "pygments_lexer": "ipython3",
   "version": "3.6.7"
  }
 },
 "nbformat": 4,
 "nbformat_minor": 4
}
